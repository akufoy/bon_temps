{
 "cells": [
  {
   "cell_type": "code",
   "execution_count": 1,
   "metadata": {
    "collapsed": true
   },
   "outputs": [],
   "source": [
    "from selenium import webdriver\n",
    "from selenium.common.exceptions import TimeoutException\n",
    "from selenium.webdriver.support.ui import WebDriverWait\n",
    "from selenium.webdriver.support import expected_conditions as EC"
   ]
  },
  {
   "cell_type": "code",
   "execution_count": 8,
   "metadata": {},
   "outputs": [],
   "source": [
    "driver = webdriver.Chrome()"
   ]
  },
  {
   "cell_type": "code",
   "execution_count": 9,
   "metadata": {},
   "outputs": [],
   "source": [
    "driver.get(\"http://showlistaustin.com/\")"
   ]
  },
  {
   "cell_type": "code",
   "execution_count": 10,
   "metadata": {
    "collapsed": true
   },
   "outputs": [],
   "source": [
    "events = driver.find_elements_by_class_name(\"h4\")"
   ]
  },
  {
   "cell_type": "code",
   "execution_count": 45,
   "metadata": {
    "collapsed": true
   },
   "outputs": [],
   "source": [
    "dates_times = driver.find_elements_by_css_selector(\"font\")"
   ]
  },
  {
   "cell_type": "code",
   "execution_count": 46,
   "metadata": {},
   "outputs": [
    {
     "data": {
      "text/plain": [
       "974"
      ]
     },
     "execution_count": 46,
     "metadata": {},
     "output_type": "execute_result"
    }
   ],
   "source": [
    "len(dates_times)"
   ]
  },
  {
   "cell_type": "code",
   "execution_count": 47,
   "metadata": {},
   "outputs": [
    {
     "data": {
      "text/plain": [
       "121"
      ]
     },
     "execution_count": 47,
     "metadata": {},
     "output_type": "execute_result"
    }
   ],
   "source": [
    "len(events)"
   ]
  },
  {
   "cell_type": "code",
   "execution_count": 30,
   "metadata": {},
   "outputs": [],
   "source": [
    "# event text comes back with \"\\n\" delimiting entries\n",
    "events_list = []\n",
    "len_list = len(events)\n",
    "for event in events:\n",
    "    events_list.append(event.text)\n",
    "#     print(event.text)"
   ]
  },
  {
   "cell_type": "code",
   "execution_count": 54,
   "metadata": {},
   "outputs": [
    {
     "data": {
      "text/plain": [
       "['Khruangbin, The Mattson 2 at the Mohawk (912 Red River) [+] [outside, 8pm, all ages]',\n",
       " 'Palm Daze, Wonderbitch, Chakra Khan at the Mohawk (912 Red River) [+] [inside, 9pm, all ages]',\n",
       " 'Altamesa Single Release Show with JD Clark, Jesse Ebaugh, & The Tender Things at Hotel Vegas (1500 E. 6th St.) [+] [9pm]',\n",
       " 'Rosette (Houston), Lowin, Hey Jellie (members of Erase Errata), and The Naked Tungs at Barracuda (611 E. 7th St.) [+] [9pm]',\n",
       " \"Heat Wave presented by Brodie's Fault with Night Cap, The Brook & The Bluff, Teqeela Mockingbirds at the Spiderhouse Ballroom (2908 Fruth St.) [+] [8:00pm, 18+, fb]\",\n",
       " 'Random Rab at Empire Control Room (606 E. 7th St.) [+] [9:00pm, 18+, fb]',\n",
       " \"Cut Copy at Stubb's Waller Creek Amphitheater (801 Red River) [+] [7pm, all ages]\",\n",
       " \"Electric Six, Northern Faces at Stubb's (801 Red River) [+] [inside, 9pm, all ages]\",\n",
       " 'Kelly Hafner (record release) at Flamingo Cantina (515 E. 6th St.) [+] [9pm]',\n",
       " 'Hirsute, Ziggurat, vinylboss, Savannah Red at Dozen Street (1808 E. 12th St.) [+] [9pm, free, 21+]',\n",
       " 'Magnifico (Queen tribute) at the Continental Club (1315 S. Congress) [+] [11pm]',\n",
       " 'Anders Osborne at the Scoot Inn (1308 E.4th St.) [+]',\n",
       " 'Tarantula Moutain, Black Thorn Halo, Suicide Cult at Kick Butt Coffee (5775 Airport Blvd. #725) [+] [9pm, fb]',\n",
       " 'King Ding at The Brixton (1412 E. 6th St.) [+] [free, 21+, fb]',\n",
       " 'Nori at Radio Coffee & Beer (4204 Manchaca Rd.) [+] [8:00pm, free, all ages, fb]',\n",
       " 'The Next Waltz Live with Bruce Robison and John Baumann at the Cactus Cafe (2247 Guadalupe St., Texas Union, UT campus) [+] [8:00pm]',\n",
       " 'Deadeye at Austin Beer Garden Brewing Co. (1305 W. Oltorf) [+] [9pm]',\n",
       " \"Brian Fallon & The Howling Weather, Ruston Kelly at Emo's (2015 E. Riverside) [+] [8pm, all ages]\",\n",
       " 'Maxo Kream, Cuz Lightyear at Come and Take It Live (formerly Grizzly Hall, 2015 E. Riverside Dr.) [+] [7pm]',\n",
       " '1964 the Tribute (Beatles tribute) at One World Theater [+] [7pm and 9:30pm]',\n",
       " 'Kool & the Gang, Brownout at ACL Live at the Moody Theater (310 Willie Nelson Blvd.) [+] [6:30pm doors, 8pm show]']"
      ]
     },
     "execution_count": 54,
     "metadata": {},
     "output_type": "execute_result"
    }
   ],
   "source": [
    "# splitlines() splits text on \"\\n\"\n",
    "events_list[4].splitlines()"
   ]
  },
  {
   "cell_type": "code",
   "execution_count": 39,
   "metadata": {},
   "outputs": [],
   "source": []
  },
  {
   "cell_type": "code",
   "execution_count": null,
   "metadata": {
    "collapsed": true
   },
   "outputs": [],
   "source": []
  }
 ],
 "metadata": {
  "kernelspec": {
   "display_name": "Python 3",
   "language": "python",
   "name": "python3"
  },
  "language_info": {
   "codemirror_mode": {
    "name": "ipython",
    "version": 3
   },
   "file_extension": ".py",
   "mimetype": "text/x-python",
   "name": "python",
   "nbconvert_exporter": "python",
   "pygments_lexer": "ipython3",
   "version": "3.6.2"
  }
 },
 "nbformat": 4,
 "nbformat_minor": 2
}
