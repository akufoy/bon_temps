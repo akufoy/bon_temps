{
 "cells": [
  {
   "cell_type": "code",
   "execution_count": 1,
   "metadata": {
    "collapsed": true
   },
   "outputs": [],
   "source": [
    "from selenium import webdriver\n",
    "from selenium.common.exceptions import TimeoutException\n",
    "from selenium.webdriver.support.ui import WebDriverWait\n",
    "from selenium.webdriver.support import expected_conditions as EC"
   ]
  },
  {
   "cell_type": "code",
   "execution_count": 8,
   "metadata": {},
   "outputs": [],
   "source": [
    "driver = webdriver.Chrome()"
   ]
  },
  {
   "cell_type": "code",
   "execution_count": 9,
   "metadata": {},
   "outputs": [],
   "source": [
    "driver.get(\"http://showlistaustin.com/\")"
   ]
  },
  {
   "cell_type": "code",
   "execution_count": 10,
   "metadata": {
    "collapsed": true
   },
   "outputs": [],
   "source": [
    "events = driver.find_elements_by_class_name(\"h4\")"
   ]
  },
  {
   "cell_type": "code",
   "execution_count": 47,
   "metadata": {},
   "outputs": [
    {
     "data": {
      "text/plain": [
       "121"
      ]
     },
     "execution_count": 47,
     "metadata": {},
     "output_type": "execute_result"
    }
   ],
   "source": [
    "len(events)"
   ]
  },
  {
   "cell_type": "code",
   "execution_count": 30,
   "metadata": {},
   "outputs": [],
   "source": [
    "# event text comes back with \"\\n\" delimiting entries\n",
    "events_list = []\n",
    "len_list = len(events)\n",
    "for event in events:\n",
    "    events_list.append(event.text)\n",
    "#     print(event.text)"
   ]
  },
  {
   "cell_type": "code",
   "execution_count": 58,
   "metadata": {},
   "outputs": [],
   "source": [
    "# splitlines() splits text on \"\\n\"\n",
    "events = []\n",
    "for event in events_list:\n",
    "    events.append(event.splitlines())"
   ]
  },
  {
   "cell_type": "code",
   "execution_count": 71,
   "metadata": {},
   "outputs": [
    {
     "name": "stdout",
     "output_type": "stream",
     "text": [
      "121\n",
      "['The Naked Tungs, Rusty Dusty, Bliss Motel at the Mohawk (912 Red River) [+] [8:00pm]', 'We Are The Asteroid, Natural Velvet (Baltimore), Suspirians at the Sahara Lounge (1413 Webberville Rd.) [+] [8:00pm, fb]', 'Sorority Noise, Remo Drive, Jelani Sei at Barracuda (611 E. 7th St.) [+] [8pm, all ages]', \"Me Mer Mo Monday!! with Aunt's Analog, Tigre Merde, The House of Wolves, Man Woman Friend Computer, The Spicewood Connection, Daze of Heaven, Parham-DJ, DJ Malligator, Visuals by Eyeon at the Volstead Lounge (1500 E. 6th St.) [+] [6:00pm, free, 21+, fb]\", 'MusiCares Sober Jam presented by Face the Music Each event concludes with an unannounced special guest performer at The North Door (501 Brushy St.) [+] [6:00pm]', 'Karaoke Underground at Beerland (711 1/2 Red River) [+] [8:00pm, free, 21+, fb]']\n"
     ]
    }
   ],
   "source": [
    "print(len(events))\n",
    "print(events[0])"
   ]
  },
  {
   "cell_type": "code",
   "execution_count": null,
   "metadata": {
    "collapsed": true
   },
   "outputs": [],
   "source": []
  }
 ],
 "metadata": {
  "kernelspec": {
   "display_name": "Python 3",
   "language": "python",
   "name": "python3"
  },
  "language_info": {
   "codemirror_mode": {
    "name": "ipython",
    "version": 3
   },
   "file_extension": ".py",
   "mimetype": "text/x-python",
   "name": "python",
   "nbconvert_exporter": "python",
   "pygments_lexer": "ipython3",
   "version": "3.6.2"
  }
 },
 "nbformat": 4,
 "nbformat_minor": 2
}
