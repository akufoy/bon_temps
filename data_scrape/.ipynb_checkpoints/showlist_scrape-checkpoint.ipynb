{
 "cells": [
  {
   "cell_type": "code",
   "execution_count": 1,
   "metadata": {
    "collapsed": true
   },
   "outputs": [],
   "source": [
    "from selenium import webdriver\n",
    "from selenium.common.exceptions import TimeoutException\n",
    "from selenium.webdriver.support.ui import WebDriverWait\n",
    "from selenium.webdriver.support import expected_conditions as EC"
   ]
  },
  {
   "cell_type": "code",
   "execution_count": 8,
   "metadata": {
    "collapsed": true
   },
   "outputs": [],
   "source": [
    "driver = webdriver.Chrome()"
   ]
  },
  {
   "cell_type": "code",
   "execution_count": 9,
   "metadata": {
    "collapsed": true
   },
   "outputs": [],
   "source": [
    "driver.get(\"http://showlistaustin.com/\")"
   ]
  },
  {
   "cell_type": "code",
   "execution_count": 10,
   "metadata": {
    "collapsed": true
   },
   "outputs": [],
   "source": [
    "events = driver.find_elements_by_class_name(\"h4\")"
   ]
  },
  {
   "cell_type": "code",
   "execution_count": 47,
   "metadata": {},
   "outputs": [
    {
     "data": {
      "text/plain": [
       "121"
      ]
     },
     "execution_count": 47,
     "metadata": {},
     "output_type": "execute_result"
    }
   ],
   "source": [
    "len(events)"
   ]
  },
  {
   "cell_type": "code",
   "execution_count": 30,
   "metadata": {
    "collapsed": true
   },
   "outputs": [],
   "source": [
    "# event text comes back with \"\\n\" delimiting entries\n",
    "events_list = []\n",
    "len_list = len(events)\n",
    "for event in events:\n",
    "    events_list.append(event.text)\n",
    "#     print(event.text)"
   ]
  },
  {
   "cell_type": "code",
   "execution_count": 58,
   "metadata": {
    "collapsed": true
   },
   "outputs": [],
   "source": [
    "# splitlines() splits text on \"\\n\"\n",
    "events = []\n",
    "for event in events_list:\n",
    "    events.append(event.splitlines())"
   ]
  },
  {
   "cell_type": "code",
   "execution_count": 71,
   "metadata": {},
   "outputs": [
    {
     "name": "stdout",
     "output_type": "stream",
     "text": [
      "121\n",
      "['The Naked Tungs, Rusty Dusty, Bliss Motel at the Mohawk (912 Red River) [+] [8:00pm]', 'We Are The Asteroid, Natural Velvet (Baltimore), Suspirians at the Sahara Lounge (1413 Webberville Rd.) [+] [8:00pm, fb]', 'Sorority Noise, Remo Drive, Jelani Sei at Barracuda (611 E. 7th St.) [+] [8pm, all ages]', \"Me Mer Mo Monday!! with Aunt's Analog, Tigre Merde, The House of Wolves, Man Woman Friend Computer, The Spicewood Connection, Daze of Heaven, Parham-DJ, DJ Malligator, Visuals by Eyeon at the Volstead Lounge (1500 E. 6th St.) [+] [6:00pm, free, 21+, fb]\", 'MusiCares Sober Jam presented by Face the Music Each event concludes with an unannounced special guest performer at The North Door (501 Brushy St.) [+] [6:00pm]', 'Karaoke Underground at Beerland (711 1/2 Red River) [+] [8:00pm, free, 21+, fb]']\n"
     ]
    }
   ],
   "source": [
    "print(len(events))\n",
    "print(events[0])"
   ]
  },
  {
   "cell_type": "code",
   "execution_count": 72,
   "metadata": {
    "collapsed": true
   },
   "outputs": [],
   "source": [
    "# navigate to venues data to scrape\n",
    "driver.get(\"http://showlistaustin.com/venue.shtml\")"
   ]
  },
  {
   "cell_type": "code",
   "execution_count": 80,
   "metadata": {
    "collapsed": true
   },
   "outputs": [],
   "source": [
    "venues = driver.find_elements_by_css_selector(\"tr\")"
   ]
  },
  {
   "cell_type": "code",
   "execution_count": 82,
   "metadata": {},
   "outputs": [],
   "source": [
    "venue_list = []\n",
    "for venue in venues:\n",
    "    venue_list.append(venue.text)\n",
    "#     print(venue.text)"
   ]
  },
  {
   "cell_type": "code",
   "execution_count": 86,
   "metadata": {},
   "outputs": [
    {
     "data": {
      "text/plain": [
       "[\"Antone's Record Shop 2928 Guadalupe 512-322-0660 map facebook\",\n",
       " 'Breakaway Records 211 W. North Loop Blvd. 512-538-0174 map facebook',\n",
       " 'End of an Ear 4304 Clawson Rd. 512-462-6008 map facebook',\n",
       " 'Exploded Records at Juiceland 4500 Duval 512-704-5434 map facebook',\n",
       " 'Friend of Sound Records 1704 S. Congress Ave. 512-447-1000 map facebook',\n",
       " 'Monkeywrench Books 110 E. North Loop 512-407-6925 map facebook',\n",
       " 'Waterloo Records 600 N. Lamar 512-474-2500 map facebook',\n",
       " \"Antone's 305 E. 5th St. map facebook\",\n",
       " 'Austin Beer Garden Brewing Co. 1305 W. Oltorf St. 512-298-2242 map facebook',\n",
       " 'Barracuda 611 E. 7th St. map facebook',\n",
       " 'Beerland 711 1/2 Red River 512-479-7625 map facebook',\n",
       " 'The Belmont 305 W. 6th St. 512-476-2100 map facebook',\n",
       " 'The Blackheart 86 Rainey St. map facebook',\n",
       " \"C-Boy's Heart and Soul 2008 S. Congress Ave. 512-215-0023 map facebook\",\n",
       " 'The Cactus Cafe Texas Union, UT campus 512-475-6515 map facebook',\n",
       " 'The Carousel Lounge 1110 E. 52nd St. 512-452-6790 map facebook',\n",
       " 'Cheer Up Charlies 900 Red River 512-431-2133 map facebook',\n",
       " 'Come and Take It Live 2015 E. Riverside Dr. 512-547-9909 map facebook',\n",
       " 'Continental Club 1315 S. Congress 512-441-2444 map facebook',\n",
       " 'Dirty Dog Bar 505 East 6th St. 512-236-9800 map facebook',\n",
       " 'Dozen Street 1808 E. 12th St. 512-236-1770 map facebook',\n",
       " 'Elysium 705 Red River 512-478-2979 map facebook',\n",
       " \"Emo's 2015 E. Riverside Dr. 512-693-3667 map facebook\",\n",
       " 'Empire Control Room & Garage 604-606 E. 7th St. 512-651-4690 map facebook',\n",
       " 'Flamingo Cantina 515 E. 6th St. 512-494-9336 map facebook',\n",
       " 'The Grand 4631 Airport Blvd, Suite 121 512-454-1986 map facebook',\n",
       " 'The Highball 1120 S. Lamar Blvd. 512-383-8309 map facebook',\n",
       " 'Hole in the Wall 2538 Guadalupe 512-472-5599 map facebook',\n",
       " 'Hotel Vegas 1500 E. 6th St. map facebook',\n",
       " 'Kingdom 103 E. 5th St. 512-522-0116 map facebook',\n",
       " 'The Lost Well 2421 Webberville Rd. map facebook',\n",
       " 'Lucky Lounge 209 W. 5th St. 512-479-7700 map facebook',\n",
       " 'The Mohawk 912 Red River map facebook',\n",
       " 'Nomad 1213 Corona Dr. 512-628-4288 map facebook',\n",
       " 'The North Door 501 Brushy St. 512-485-3001 map facebook',\n",
       " 'One-2-One Bar 1509 S. Lamar Blvd. St. 600 512-473-0121 map facebook',\n",
       " 'The Parish 214 E 6th St. 512-479-6372 map facebook',\n",
       " 'The Sahara Lounge 1413 Webberville Rd. 512-927-0700 map facebook',\n",
       " 'The Scoot Inn 1308 E. 4th St. map facebook',\n",
       " 'The Sidewinder 715 Red River map facebook',\n",
       " 'Spiderhouse Ballroom 2908 Fruth St. 512-480-9562 map facebook',\n",
       " \"Stubb's BBQ 801 Red River 512-480-8341 map facebook\",\n",
       " 'Swan Dive 615 Red River map facebook',\n",
       " 'Tellers 607 and 609 Trinity map facebook',\n",
       " 'Texas Mist 1115 Old Bastrop Hwy. map facebook',\n",
       " 'The Volstead Lounge 1500 E. 6th St. map facebook',\n",
       " 'Vulcan Gas Company 418 E. 6th St. 512-297-2051 map facebook',\n",
       " 'The White Horse 500 Comal St. 512-553-6756 map facebook',\n",
       " '3ten ACL Live 310 Willie Nelson Blvd., Suite 1A 512-457-5595 map facebook',\n",
       " 'Austin360 Amphitheater 9201 Circuit of the Americas Blvd. 512-301-6600 map facebook',\n",
       " 'ACL Live at The Moody Theater 310 Willie Nelson Blvd. 512-225-7999 map facebook',\n",
       " 'Bass Concert Hall UT campus 512-471-1444 map facebook',\n",
       " 'Cedar Park Center 2100 Avenue of the Stars 512-600-5000 map facebook',\n",
       " 'The Frank Erwin Center 1701 Red River 512-471-7744 map facebook',\n",
       " 'Hogg Auditorium UT campus 512-471-1444 map facebook',\n",
       " 'Ironwood Hall 505 E. 7th St. map facebook',\n",
       " 'The Long Center 701 W. Riverside Dr. 512-457-5100 map facebook',\n",
       " 'One World Theatre 7701 Bee Caves Rd. 512-330-9500 map facebook',\n",
       " 'The Paramount Theater 713 Congress Ave. 512-472-5470 map facebook',\n",
       " 'Scottish Rite Theater 207 W. 18th St. 512-472-5436 map facebook',\n",
       " 'Skyline Theater 701 W. Riverside Dr. 512-457-5100 map facebook',\n",
       " 'Travis County Exposition Center 7311 Decker Lane 512-854-4900 map facebook',\n",
       " 'Buzz Mill 1505 Town Creek Dr. map facebook',\n",
       " 'Cherrywood Coffeehouse 1400 E. 38th 1/2 St. 512-538-1991 map facebook',\n",
       " 'Counter Culture 2337 E. Cesar Chavez 512-524-1540 map facebook',\n",
       " 'Lamberts 401 W. 2nd St. 512-494-1500 map facebook',\n",
       " 'Oskar Blues Brewery 10420 Metric Blvd. 512-243-7054 map facebook',\n",
       " 'Spiderhouse 2908 Fruth St. 512-480-9562 map facebook',\n",
       " \"Threadgill's 301 West Riverside Dr. 512-472-9304 map facebook\"]"
      ]
     },
     "execution_count": 86,
     "metadata": {},
     "output_type": "execute_result"
    }
   ],
   "source": [
    "venue_list"
   ]
  },
  {
   "cell_type": "code",
   "execution_count": null,
   "metadata": {
    "collapsed": true
   },
   "outputs": [],
   "source": []
  }
 ],
 "metadata": {
  "kernelspec": {
   "display_name": "Python 3",
   "language": "python",
   "name": "python3"
  },
  "language_info": {
   "codemirror_mode": {
    "name": "ipython",
    "version": 3
   },
   "file_extension": ".py",
   "mimetype": "text/x-python",
   "name": "python",
   "nbconvert_exporter": "python",
   "pygments_lexer": "ipython3",
   "version": "3.6.2"
  }
 },
 "nbformat": 4,
 "nbformat_minor": 2
}
