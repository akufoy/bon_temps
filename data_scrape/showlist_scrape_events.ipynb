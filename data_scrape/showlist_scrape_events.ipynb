{
 "cells": [
  {
   "cell_type": "code",
   "execution_count": 1,
   "metadata": {
    "collapsed": true
   },
   "outputs": [],
   "source": [
    "from selenium import webdriver\n",
    "from selenium.common.exceptions import TimeoutException\n",
    "from selenium.webdriver.support.ui import WebDriverWait\n",
    "from selenium.webdriver.support import expected_conditions as EC"
   ]
  },
  {
   "cell_type": "code",
   "execution_count": 2,
   "metadata": {
    "collapsed": true
   },
   "outputs": [],
   "source": [
    "driver = webdriver.Chrome()"
   ]
  },
  {
   "cell_type": "code",
   "execution_count": 3,
   "metadata": {
    "collapsed": true
   },
   "outputs": [],
   "source": [
    "driver.get(\"http://showlistaustin.com/\")"
   ]
  },
  {
   "cell_type": "code",
   "execution_count": 4,
   "metadata": {
    "collapsed": true
   },
   "outputs": [],
   "source": [
    "events = driver.find_elements_by_css_selector(\"td\")"
   ]
  },
  {
   "cell_type": "code",
   "execution_count": 5,
   "metadata": {
    "collapsed": true
   },
   "outputs": [],
   "source": [
    "import re"
   ]
  },
  {
   "cell_type": "code",
   "execution_count": 61,
   "metadata": {},
   "outputs": [
    {
     "name": "stdout",
     "output_type": "stream",
     "text": [
      "Khruangbin, The Mattson 2 at the Mohawk \n",
      "Palm Daze, Wonderbitch, Chakra Khan at the Mohawk \n",
      "Versus Cult: Sound & Fury Edition with Art Acevedo, Blank Hellscape, Bucket of Piss, Pfisters, Jarebear, Homo-Erectus at Beerland \n",
      "Altamesa Single Release Show with JD Clark, Jesse Ebaugh, & The Tender Things at Hotel Vegas \n",
      "Rosette (Houston), Lowin, Hey Jellie (members of Erase Errata), and The Naked Tungs at Barracuda \n",
      "Human Influence Presents Raise Her Voice with Treelah, amea, Darja, Violinda Lola, Tenci, Niko El Narco, Helen Hailu, DJ Cateye at Cheer Up Charlies \n",
      "Heat Wave presented by Brodie's Fault with Night Cap, The Brook & The Bluff, Teqeela Mockingbirds at the Spiderhouse Ballroom \n",
      "Random Rab at Empire Control Room \n",
      "Cut Copy at Stubb's Waller Creek Amphitheater \n",
      "Electric Six, Northern Faces at Stubb's \n",
      "Kelly Hafner (record release) at Flamingo Cantina \n",
      "Hirsute, Ziggurat, vinylboss, Savannah Red at Dozen Street \n",
      "Jeff Plankenhorn at Oskar Blues Brewery \n",
      "Magnifico (Queen tribute), Queue Queue at the Continental Club \n",
      "Anders Osborne, The South Austin Moonlighters at the Scoot Inn \n",
      "Tarantula Moutain, Black Thorn Halo, Suicide Cult at Kick Butt Coffee \n",
      "King Ding at The Brixton \n",
      "Nori at Radio Coffee & Beer \n",
      "The Next Waltz Live with Bruce Robison and John Baumann at the Cactus Cafe \n",
      "Deadeye at Austin Beer Garden Brewing Co. \n",
      "Brian Fallon & The Howling Weather, Ruston Kelly at Emo's \n",
      "Pyrethrum, Psionnosaur, Rubella Muti, Cut Cloth at the Hole in the Wall \n",
      "Maxo Kream, Cuz Lightyear at Come and Take It Live \n",
      "1964 the Tribute (Beatles tribute) at One World Theater\n",
      "Kool & the Gang, Brownout at ACL Live at the Moody Theater \n"
     ]
    }
   ],
   "source": [
    "# regex to remove words between []\n",
    "x = events[1].text\n",
    "new_word = re.sub(\"[\\[].*?[\\]]\", \"\", x)\n",
    "# split on \\n. output list\n",
    "word_list = new_word.splitlines()\n",
    "# loop. remove spaces at end of text, regex to remove last parenthesis text (in this case the address)\n",
    "for word in word_list:\n",
    "    print(re.sub(\"\\([^()]*\\)$\", \"\", word.rstrip()))"
   ]
  },
  {
   "cell_type": "code",
   "execution_count": null,
   "metadata": {
    "collapsed": true
   },
   "outputs": [],
   "source": []
  }
 ],
 "metadata": {
  "kernelspec": {
   "display_name": "Python 3",
   "language": "python",
   "name": "python3"
  },
  "language_info": {
   "codemirror_mode": {
    "name": "ipython",
    "version": 3
   },
   "file_extension": ".py",
   "mimetype": "text/x-python",
   "name": "python",
   "nbconvert_exporter": "python",
   "pygments_lexer": "ipython3",
   "version": "3.6.2"
  }
 },
 "nbformat": 4,
 "nbformat_minor": 2
}
